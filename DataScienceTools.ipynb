{
 "cells": [
  {
   "cell_type": "markdown",
   "id": "9f40798b",
   "metadata": {},
   "source": [
    "# Data Science Tools "
   ]
  },
  {
   "cell_type": "code",
   "execution_count": null,
   "id": "5047bffe",
   "metadata": {},
   "outputs": [],
   "source": []
  },
  {
   "cell_type": "code",
   "execution_count": null,
   "id": "ce8e0bb5",
   "metadata": {},
   "outputs": [],
   "source": []
  },
  {
   "cell_type": "markdown",
   "id": "60d6745e",
   "metadata": {},
   "source": [
    "this note cell is instruction, Data Science Tools"
   ]
  },
  {
   "cell_type": "code",
   "execution_count": null,
   "id": "de10be32",
   "metadata": {},
   "outputs": [],
   "source": []
  },
  {
   "cell_type": "markdown",
   "id": "6652c346",
   "metadata": {},
   "source": [
    "list of data science languages:\n",
    "1. python\n",
    "2. R\n",
    "3. SQL\n",
    "4. C++\n",
    "5. Java..etc"
   ]
  },
  {
   "cell_type": "code",
   "execution_count": null,
   "id": "60b43e48",
   "metadata": {},
   "outputs": [],
   "source": []
  },
  {
   "cell_type": "markdown",
   "id": "05e74941",
   "metadata": {},
   "source": [
    "list of data science libraries:\n",
    "1. TenserFlow\n",
    "2. Numpy\n",
    "3. Scipy\n",
    "4. Matplotlib\n",
    "5. pytorch\n",
    "6. scikit-learn\n",
    "7. Pandas..etc"
   ]
  },
  {
   "cell_type": "code",
   "execution_count": null,
   "id": "8e997cff",
   "metadata": {},
   "outputs": [],
   "source": []
  },
  {
   "cell_type": "markdown",
   "id": "3b955a0a",
   "metadata": {},
   "source": [
    "|Data Science Tools|\n",
    "|---|\n",
    "|SAS|\n",
    "|Apache Hadoop||\n",
    "|TenserFlow|"
   ]
  },
  {
   "cell_type": "code",
   "execution_count": null,
   "id": "8583f92b",
   "metadata": {},
   "outputs": [],
   "source": []
  },
  {
   "cell_type": "code",
   "execution_count": null,
   "id": "5ee65d9a",
   "metadata": {},
   "outputs": [],
   "source": []
  },
  {
   "cell_type": "code",
   "execution_count": null,
   "id": "84c34591",
   "metadata": {},
   "outputs": [],
   "source": []
  },
  {
   "cell_type": "code",
   "execution_count": null,
   "id": "ce11f0d9",
   "metadata": {},
   "outputs": [],
   "source": []
  },
  {
   "cell_type": "code",
   "execution_count": null,
   "id": "fbd0c61f",
   "metadata": {},
   "outputs": [],
   "source": []
  },
  {
   "cell_type": "markdown",
   "id": "f87ad5dc",
   "metadata": {},
   "source": [
    "#### introducing arithmetic expression examples"
   ]
  },
  {
   "cell_type": "code",
   "execution_count": 10,
   "id": "f3b27cfe",
   "metadata": {},
   "outputs": [
    {
     "data": {
      "text/plain": [
       "11"
      ]
     },
     "execution_count": 10,
     "metadata": {},
     "output_type": "execute_result"
    }
   ],
   "source": [
    "# Create a code cell to multiply and add numbers\n",
    "2+(3*3)"
   ]
  },
  {
   "cell_type": "code",
   "execution_count": 11,
   "id": "7a0441c1",
   "metadata": {},
   "outputs": [
    {
     "data": {
      "text/plain": [
       "16.666666666666668"
      ]
     },
     "execution_count": 11,
     "metadata": {},
     "output_type": "execute_result"
    }
   ],
   "source": [
    "#Create a code cell to convert minutes to hours\n",
    "#Convert 1000 minutes to hours\n",
    "1000/60"
   ]
  },
  {
   "cell_type": "markdown",
   "id": "c99eccb0",
   "metadata": {},
   "source": [
    "###### _Objectives_\n",
    "* list Categories of Data Science Tools\n",
    "* list Commerical Tools for Data Science\n",
    "* list languages of data Science\n",
    "* list libraries, APIs,and model"
   ]
  },
  {
   "cell_type": "markdown",
   "id": "80ccc89d",
   "metadata": {},
   "source": [
    "## Author\n",
    "Gourav Kumar"
   ]
  },
  {
   "cell_type": "code",
   "execution_count": null,
   "id": "77ad9c2b",
   "metadata": {},
   "outputs": [],
   "source": []
  },
  {
   "cell_type": "code",
   "execution_count": null,
   "id": "69f783c4",
   "metadata": {},
   "outputs": [],
   "source": []
  },
  {
   "cell_type": "code",
   "execution_count": null,
   "id": "ecbb65eb",
   "metadata": {},
   "outputs": [],
   "source": []
  }
 ],
 "metadata": {
  "kernelspec": {
   "display_name": "Python 3 (ipykernel)",
   "language": "python",
   "name": "python3"
  },
  "language_info": {
   "codemirror_mode": {
    "name": "ipython",
    "version": 3
   },
   "file_extension": ".py",
   "mimetype": "text/x-python",
   "name": "python",
   "nbconvert_exporter": "python",
   "pygments_lexer": "ipython3",
   "version": "3.9.13"
  }
 },
 "nbformat": 4,
 "nbformat_minor": 5
}
